{
 "cells": [
  {
   "cell_type": "code",
   "execution_count": null,
   "metadata": {},
   "outputs": [],
   "source": [
    "import json\n",
    "import requests\n",
    "import numpy as np\n",
    "import os\n",
    "import shutil\n",
    "from os import path"
   ]
  },
  {
   "cell_type": "code",
   "execution_count": null,
   "metadata": {},
   "outputs": [],
   "source": [
    "#Get google api key\n",
    "with open(\"config.json\", \"r\") as f:\n",
    "    bk = json.load(f)['big_key_demo']\n",
    "BASE_URL_DIRECTIONS = 'https://maps.googleapis.com/maps/api/directions/json?'\n",
    "KEY = '&key=' + bk"
   ]
  },
  {
   "cell_type": "code",
   "execution_count": null,
   "metadata": {},
   "outputs": [],
   "source": [
    "#Supporting functions\n",
    "def get_total_distance(routes_obj):\n",
    "    return routes_obj.json()['routes'][0]['legs'][0]['distance']['value']\n",
    "\n",
    "def get_lat_lng(routes_obj):\n",
    "    lat_lng = []\n",
    "    steps = routes_obj.json()['routes'][0]['legs'][0]['steps']\n",
    "    for step in steps:\n",
    "        end = step['end_location']\n",
    "        start = step['start_location']\n",
    "        lat_lng += [(start['lat'],start['lng']),(end['lat'],end['lng'])]\n",
    "    return lat_lng\n",
    "\n",
    "def create_path(points):\n",
    "    path = 'path='\n",
    "    for i in points:\n",
    "        path += str(i[0]) + ',' + str(i[1]) + '|'\n",
    "    return path[:-1] #remove last '|'\n",
    "\n",
    "def get_coords(r,points):\n",
    "    for i in r.json()['snappedPoints']:\n",
    "        points += [(i['location']['latitude'],i['location']['longitude'])]\n",
    "    return points\n",
    "\n",
    "def get_snapped_points(unique_points_interpolated,key,BASE_URL_SNAP = 'https://roads.googleapis.com/v1/snapToRoads?',interpolate = '&interpolate=true'):\n",
    "    points = []\n",
    "    k = 0\n",
    "    coords_list = []\n",
    "    while k <= len(unique_points_interpolated)-1:\n",
    "        coords_list += [unique_points_interpolated[k]]\n",
    "        if (len(coords_list)%100==0) or (k+1==len(unique_points_interpolated)): #When we have 100 points or we reach the end of the list.\n",
    "            path = create_path(coords_list)\n",
    "            url = BASE_URL_SNAP + path + interpolate + key\n",
    "            r = requests.get(url)\n",
    "            points += get_coords(r,points)\n",
    "            coords_list = []\n",
    "        k += 1\n",
    "    return(points)\n",
    "\n",
    "def interpolate_coordinates(distance, lat_lng, k, separation_mts = 300):\n",
    "    unique_points = list(set(lat_lng))\n",
    "    n = max([1,round((distance/separation_mts)/len(unique_points))])\n",
    "    unique_points_interpolated = []\n",
    "    for i in range(len(unique_points)-1):\n",
    "        unique_points_interpolated += list(map(tuple,np.linspace(unique_points[i],unique_points[i+1],n)))\n",
    "    unique_points_interpolated = sorted(list(set(unique_points_interpolated)), key = lambda x: x[0])\n",
    "    if n > 1: #If we have any new points to snap. \n",
    "        results = get_snapped_points(unique_points_interpolated,k)\n",
    "        return results\n",
    "    else:\n",
    "        return unique_points_interpolated\n",
    "\n",
    "def create_image(x,origin,destination):\n",
    "    for heading in range(0,4):\n",
    "        lat=x[0]\n",
    "        lng=x[1]\n",
    "        heading=str(90*heading)\n",
    "        query='https://maps.googleapis.com/maps/api/streetview?size=400x400&location=%s,%s&fov=90&heading=%s&pitch=10%s' % (str(lat),str(lng),heading,KEY)\n",
    "        page=requests.get(query)\n",
    "        filename='%s-%s-%s-%s-%s.jpg' %(origin,destination,str(lat),str(lng),heading)\n",
    "        if not path.exists(filename+\".txt\") or os.path.getsize(filename)<5*10^3:\n",
    "            f = open(filename,'wb')\n",
    "            f.write(page.content)    \n",
    "            f.close()"
   ]
  },
  {
   "cell_type": "code",
   "execution_count": null,
   "metadata": {},
   "outputs": [],
   "source": [
    "#Example of waypoints to force the route to pass through a certain road\n",
    "#waypoints = 'waypoints=1202+Foothill+Blvd+Calistoga|Oakville,CA|Yountville,CA|Napa+Valley+Marriott+Hotel' \n",
    "def download_pictures(origin,destination,folder_name,waypoints=None):\n",
    "    os.chdir('/data/road-scanner')\n",
    "    \n",
    "    #Get interpolated coordinates\n",
    "    if waypoints == None:\n",
    "        url = BASE_URL_DIRECTIONS + 'origin=' + origin + '&' + 'destination=' + destination + '&' + KEY\n",
    "    else:\n",
    "        url = BASE_URL_DIRECTIONS + 'origin=' + origin + '&' + 'destination=' + destination + '&' + waypoints + KEY\n",
    "    r = requests.get(url)\n",
    "    upi = interpolate_coordinates(get_total_distance(r),get_lat_lng(r),KEY)\n",
    "    #Download pictures\n",
    "    if os.path.exists(folder_name):\n",
    "        shutil.rmtree(folder_name)\n",
    "    os.makedirs(folder_name)    \n",
    "    os.chdir(folder_name)\n",
    "    org_dest_string='%s-%s' %(origin,destination)\n",
    "    \n",
    "    for i in range(len(upi)):\n",
    "        create_image(upi[i],origin,destination)"
   ]
  },
  {
   "cell_type": "code",
   "execution_count": null,
   "metadata": {},
   "outputs": [],
   "source": [
    "origins = [\"320+Acorn+Ct+Vacaville+CA+95688\", \n",
    "           \"12141+Martha+Ann+Dr+Los+Alamitos+CA+90720\", \"Salida+California\", \n",
    "           \"1625+W+Lugonia+Ave+Redlands+CA+92374\",\"I-205+Tracy+CA+95377\"]\n",
    "destinations = [\"4505+W+Capitol+Ave+West+Sacramento+CA+95691\", \n",
    "                \"Wilshire+Federal+Building+11000+Wilshire+Blvd+Los+Angeles+CA+90024\", \n",
    "                \"Golden+State+Hwy,+Bakersfield,+CA+93307\",\n",
    "               \"450+N+Atlantic+Blvd,+Monterey+Park,+CA+91754\", \"Grapevine+California\"]\n",
    "folder_names = [\"vacaville_to_sac\", \n",
    "               \"405_westwood_to_long_beach\", \"99_salida_to_bakersfield\", \"10_alhambra_to_riverside\",\n",
    "                'I5_tracy_to_grapevine']\n",
    "for i in range(len(origins)):\n",
    "    download_pictures(origins[i],destinations[i],folder_names[i])"
   ]
  },
  {
   "cell_type": "code",
   "execution_count": null,
   "metadata": {
    "scrolled": false
   },
   "outputs": [],
   "source": [
    "### Features of routes missing, replace spaces for '+'\n",
    "origins = ['Kings+Beach+California+USA','Sand+City+California+USA','Mendocino+California+USA','Death+Valley+Junction+California+92328+USA','Ocotillo+California+92259+USA','Dwight+D+Eisenhower+Hwy+Oakland+CA+94607+USA','Golden+Gate+Bridge+View+Vista+Point+Sausalito+CA+94965+United+States','51+59+Christmas+Tree+Point+Rd+San+Francisco+CA 94131+USA','Fresno+California+USA']\n",
    "destinations = ['Camp+Richardson+California+96150+USA','Gorda+California+93920+USA','Bodega+Bay+California+94923+USA','CA+190+California+USA','Borrego+Salton+Sea+Way+Thermal+CA+92274+USA','701+Bayshore+Blvd+San+Francisco+CA+94124+USA','The+Palace+Of+Fine+Arts+3601+Lyon+St+San+Francisco+CA+94123+United+States','148+Marview+Way+San+Francisco+CA+94131+USA','Golden+State+Hwy+Bakersfield+CA+93307+USA']\n",
    "folder_names = ['Lake_Tahoe','Big_Sur_Coast','Northern_Pacific_coast','Death_Valley','Anzo_Borrego','SF_Skyline','Golden_Gate','Twin_Peaks','shorter_99']\n",
    "for i in range(len(origins)):\n",
    "    download_pictures(origins[i],destinations[i],folder_names[i])"
   ]
  }
 ],
 "metadata": {
  "kernelspec": {
   "display_name": "Python 3",
   "language": "python",
   "name": "python3"
  },
  "language_info": {
   "codemirror_mode": {
    "name": "ipython",
    "version": 3
   },
   "file_extension": ".py",
   "mimetype": "text/x-python",
   "name": "python",
   "nbconvert_exporter": "python",
   "pygments_lexer": "ipython3",
   "version": "3.6.8"
  }
 },
 "nbformat": 4,
 "nbformat_minor": 2
}
